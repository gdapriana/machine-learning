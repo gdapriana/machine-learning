{
  "nbformat": 4,
  "nbformat_minor": 0,
  "metadata": {
    "colab": {
      "provenance": [],
      "authorship_tag": "ABX9TyOpsMPdxPTqUkCenIVpq2mc",
      "include_colab_link": true
    },
    "kernelspec": {
      "name": "python3",
      "display_name": "Python 3"
    },
    "language_info": {
      "name": "python"
    }
  },
  "cells": [
    {
      "cell_type": "markdown",
      "metadata": {
        "id": "view-in-github",
        "colab_type": "text"
      },
      "source": [
        "<a href=\"https://colab.research.google.com/github/icequeenwand/machine-learning/blob/main/supervised_learning/linear_regression/simple_linear_regression.ipynb\" target=\"_parent\"><img src=\"https://colab.research.google.com/assets/colab-badge.svg\" alt=\"Open In Colab\"/></a>"
      ]
    },
    {
      "cell_type": "markdown",
      "source": [],
      "metadata": {
        "id": "44Iy3mWPDQRc"
      }
    },
    {
      "cell_type": "markdown",
      "source": [
        "## Notation\n",
        "Here is a summary of some of the notation you will encounter.  \n",
        "\n",
        "|General <img width=70/> <br />  Notation  <img width=70/> | Description<img width=350/>| Python (if applicable) |\n",
        "|: ------------|: ------------------------------------------------------------||\n",
        "| $a$ | scalar, non bold                                                      ||\n",
        "| $\\mathbf{a}$ | vector, bold                                                      ||\n",
        "| **Regression** |         |    |     |\n",
        "|  $\\mathbf{x}$ | Training Example feature values (in this lab - Size (1000 sqft))  | `x_train` |   \n",
        "|  $\\mathbf{y}$  | Training Example  targets (in this lab Price (1000s of dollars))  | `y_train`\n",
        "|  $x^{(i)}$, $y^{(i)}$ | $i_{th}$Training Example | `x_i`, `y_i`|\n",
        "| m | Number of training examples | `m`|\n",
        "|  $w$  |  parameter: weight                                 | `w`    |\n",
        "|  $b$           |  parameter: bias                                           | `b`    |     \n",
        "| $f_{w,b}(x^{(i)})$ | The result of the model evaluation at $x^{(i)}$ parameterized by $w,b$: $f_{w,b}(x^{(i)}) = wx^{(i)}+b$  | `f_wb` |"
      ],
      "metadata": {
        "id": "LduidKySDmqM"
      }
    },
    {
      "cell_type": "markdown",
      "source": [
        "## Tools\n",
        "- NumPy, a popular library for scientific computing\n",
        "- Matplotlib, a popular library for plotting data"
      ],
      "metadata": {
        "id": "e8cc2Uw8DsYb"
      }
    },
    {
      "cell_type": "code",
      "execution_count": 106,
      "metadata": {
        "id": "ZnMDBs_wDOdN"
      },
      "outputs": [],
      "source": [
        "import numpy as np\n",
        "import math, copy\n",
        "import matplotlib.pyplot as plt"
      ]
    },
    {
      "cell_type": "markdown",
      "source": [
        "This wil use some dataset to train the model:\n",
        "\n",
        "| Size (1000 sqft)     | Price (1000s of dollars) |\n",
        "| -------------------| ------------------------ |\n",
        "| 1.5               | 300                      |\n",
        "| 1.7               | 350                      |\n",
        "| 1.8               | 400                      |\n",
        "| 2.0               | 450                      |\n",
        "| 1.2               | 500                      |\n"
      ],
      "metadata": {
        "id": "vnWTG-aEEBha"
      }
    },
    {
      "cell_type": "code",
      "source": [
        "x_train = np.array([1.5, 1.7, 1.8, 2.0, 2.2])\n",
        "y_train = np.array([300.0, 350., 400.0, 450.0, 500.0])\n",
        "print(f'x: {x_train}')\n",
        "print(f'y: {y_train}')"
      ],
      "metadata": {
        "colab": {
          "base_uri": "https://localhost:8080/"
        },
        "id": "uXuezP-nEnjE",
        "outputId": "cd49aa1f-117d-4ea7-b3d2-2c1b81b73fef"
      },
      "execution_count": 3,
      "outputs": [
        {
          "output_type": "stream",
          "name": "stdout",
          "text": [
            "x: [1.5 1.7 1.8 2.  2.2]\n",
            "y: [300. 350. 400. 450. 500.]\n"
          ]
        }
      ]
    },
    {
      "cell_type": "markdown",
      "source": [
        "### Number of training examples `m`\n",
        "You will use `m` to denote the number of training examples. Numpy arrays have a `.shape` parameter. `x_train.shape` returns a python tuple with an entry for each dimension. `x_train.shape[0]` is the length of the array and number of examples as shown below."
      ],
      "metadata": {
        "id": "rfVfMMRbFhGf"
      }
    },
    {
      "cell_type": "code",
      "source": [
        "m = len(x_train)"
      ],
      "metadata": {
        "id": "60yEFo9ZFlP3"
      },
      "execution_count": 8,
      "outputs": []
    },
    {
      "cell_type": "markdown",
      "source": [
        "### Training example `x_i, y_i`\n",
        "\n",
        "You will use (x$^{(i)}$, y$^{(i)}$) to denote the $i^{th}$ training example. Since Python is zero indexed, (x$^{(0)}$, y$^{(0)}$) is (1.0, 300.0) and (x$^{(1)}$, y$^{(1)}$) is (2.0, 500.0).\n",
        "\n",
        "To access a value in a Numpy array, one indexes the array with the desired offset. For example the syntax to access location zero of `x_train` is `x_train[0]`.\n",
        "Run the next code block below to get the $i^{th}$ training example."
      ],
      "metadata": {
        "id": "zYqErk6yGQYn"
      }
    },
    {
      "cell_type": "code",
      "source": [
        "i = 0\n",
        "\n",
        "x_i = x_train[i]\n",
        "y_i = y_train[i]\n",
        "\n",
        "print(f'x[{i}], y[{i}]: ({x_i}, {y_i})')"
      ],
      "metadata": {
        "colab": {
          "base_uri": "https://localhost:8080/"
        },
        "id": "PAioI5qyGc5i",
        "outputId": "d0a4dbcc-21ed-4ba3-ac67-9fe305832cf9"
      },
      "execution_count": 14,
      "outputs": [
        {
          "output_type": "stream",
          "name": "stdout",
          "text": [
            "x[0], y[0]: (1.5, 300.0)\n"
          ]
        }
      ]
    },
    {
      "cell_type": "code",
      "source": [
        "for i in range(m):\n",
        "  print(f'x[{i}], y[{i}]: ({x_train[i]}, {y_train[i]})')"
      ],
      "metadata": {
        "colab": {
          "base_uri": "https://localhost:8080/"
        },
        "id": "XhmNUtqQGbjJ",
        "outputId": "683934d3-033a-4995-f08b-39f7344cc491"
      },
      "execution_count": 21,
      "outputs": [
        {
          "output_type": "stream",
          "name": "stdout",
          "text": [
            "x[0], y[0]: (1.5, 300.0)\n",
            "x[1], y[1]: (1.7, 350.0)\n",
            "x[2], y[2]: (1.8, 400.0)\n",
            "x[3], y[3]: (2.0, 450.0)\n",
            "x[4], y[4]: (2.2, 500.0)\n"
          ]
        }
      ]
    },
    {
      "cell_type": "markdown",
      "source": [
        "### Plotting the data\n",
        "You can plot these two points using the `scatter()` function in the `matplotlib` library, as shown in the cell below.\n",
        "- The function arguments `marker` and `c` show the points as red crosses (the default is blue dots).\n",
        "\n",
        "You can use other functions in the `matplotlib` library to set the title and labels to display"
      ],
      "metadata": {
        "id": "Aa44AaPyHlCu"
      }
    },
    {
      "cell_type": "code",
      "source": [
        "plt.scatter(x_train, y_train, marker='x', c='r')\n",
        "plt.title(\"Housing Prices\")\n",
        "plt.ylabel(\"Price (in 1000s of dollars)\")\n",
        "plt.xlabel(\"Size (1000 sqft)\")\n",
        "plt.show()"
      ],
      "metadata": {
        "colab": {
          "base_uri": "https://localhost:8080/",
          "height": 472
        },
        "id": "gvjTg_RcHpac",
        "outputId": "a27d4cfb-6c80-4f31-e3cd-34563790e8d8"
      },
      "execution_count": 16,
      "outputs": [
        {
          "output_type": "display_data",
          "data": {
            "text/plain": [
              "<Figure size 640x480 with 1 Axes>"
            ],
            "image/png": "[encoded data removed]"
          },
          "metadata": {}
        }
      ]
    },
    {
      "cell_type": "markdown",
      "source": [
        "## Model function\n",
        " The model function for linear regression (which is a function that maps from `x` to `y`) is represented as\n",
        "\n",
        "$$ f_{w,b}(x^{(i)}) = wx^{(i)} + b \\tag{1}$$\n",
        "\n",
        "The formula above is how you can represent straight lines - different values of $w$ and $b$ give you different straight lines on the plot. <br/> <br/>\n",
        "\n",
        "Let's try to get a better intuition for this through the code blocks below. Let's start with $w = 100$ and $b = 100$."
      ],
      "metadata": {
        "id": "2wFhj0ujITEr"
      }
    },
    {
      "cell_type": "code",
      "source": [
        "w = 258\n",
        "b = -75\n",
        "\n",
        "print(f'w: {w}, b: {b}')"
      ],
      "metadata": {
        "colab": {
          "base_uri": "https://localhost:8080/"
        },
        "id": "M0riVgrBIa50",
        "outputId": "416b9cf6-36a1-495e-ec20-766e04e697ae"
      },
      "execution_count": 109,
      "outputs": [
        {
          "output_type": "stream",
          "name": "stdout",
          "text": [
            "w: 258, b: -75\n"
          ]
        }
      ]
    },
    {
      "cell_type": "markdown",
      "source": [
        "Now, let's compute the value of $f_{w,b}(x^{(i)})$ for your two data points. You can explicitly write this out for each data point as -\n",
        "\n",
        "for $x^{(0)}$, `f_wb = w * x[0] + b`\n",
        "\n",
        "for $x^{(1)}$, `f_wb = w * x[1] + b`\n",
        "\n",
        "For a large number of data points, this can get unwieldy and repetitive. So instead, you can calculate the function output in a `for` loop as shown in the `compute_model_output` function below.\n",
        "> **Note**: The argument description `(ndarray (m,))` describes a Numpy n-dimensional array of shape (m,). `(scalar)` describes an argument without dimensions, just a magnitude.  \n",
        "> **Note**: `np.zero(n)` will return a one-dimensional numpy array with $n$ entries"
      ],
      "metadata": {
        "id": "Ao9MwibUJP_v"
      }
    },
    {
      "cell_type": "code",
      "source": [
        "def compute_model_output(x, w, b):\n",
        "  m = len(x)\n",
        "  f_wb = np.zeros(m)\n",
        "  for i in range(m):\n",
        "    f_wb[i] = w * x[i] + b\n",
        "\n",
        "  return f_wb"
      ],
      "metadata": {
        "id": "8jX-0jGmJUG7"
      },
      "execution_count": 86,
      "outputs": []
    },
    {
      "cell_type": "markdown",
      "source": [
        "Now let's call the `compute_model_output` function and plot the output.."
      ],
      "metadata": {
        "id": "TnQvo9oSJ6p6"
      }
    },
    {
      "cell_type": "code",
      "source": [
        "temp_f_wb = compute_model_output(x_train, w, b)"
      ],
      "metadata": {
        "id": "YF4DZQxvJ7hm"
      },
      "execution_count": 110,
      "outputs": []
    },
    {
      "cell_type": "code",
      "source": [
        "# Plot our model prediction\n",
        "plt.plot(x_train, temp_f_wb, c='b',label='Our Prediction')\n",
        "\n",
        "# Plot the data points\n",
        "plt.scatter(x_train, y_train, marker='x', c='r',label='Actual Values')\n",
        "\n",
        "# Set the title\n",
        "plt.title(\"Housing Prices\")\n",
        "# Set the y-axis label\n",
        "plt.ylabel('Price (in 1000s of dollars)')\n",
        "# Set the x-axis label\n",
        "plt.xlabel('Size (1000 sqft)')\n",
        "plt.legend()\n",
        "plt.show()"
      ],
      "metadata": {
        "colab": {
          "base_uri": "https://localhost:8080/",
          "height": 472
        },
        "id": "tEsWk4h_Kpw0",
        "outputId": "989fbb7b-4196-4b16-b7ae-67f66f1088f2"
      },
      "execution_count": 111,
      "outputs": [
        {
          "output_type": "display_data",
          "data": {
            "text/plain": [
              "<Figure size 640x480 with 1 Axes>"
            ],
            "image/png": "[encoded data removed]"
          },
          "metadata": {}
        }
      ]
    },
    {
      "cell_type": "code",
      "source": [
        "w = 258\n",
        "b = -75\n",
        "x_i = 1.9\n",
        "\n",
        "predict = w * x_i + b\n",
        "print(f\"for a while, the price is ${predict:.0f} thousand dollars\")"
      ],
      "metadata": {
        "colab": {
          "base_uri": "https://localhost:8080/"
        },
        "id": "7cowr-gmM735",
        "outputId": "85348efa-1d0c-418d-b030-fc270cd87c8b"
      },
      "execution_count": 113,
      "outputs": [
        {
          "output_type": "stream",
          "name": "stdout",
          "text": [
            "for a while, the price is $415 thousand dollars\n"
          ]
        }
      ]
    },
    {
      "cell_type": "markdown",
      "source": [
        "## Computing Cost\n",
        "The term 'cost' in this assignment might be a little confusing since the data is housing cost. Here, cost is a measure how well our model is predicting the target price of the house. The term 'price' is used for housing data.\n",
        "\n",
        "The equation for cost with one variable is:\n",
        "  $$J(w,b) = \\frac{1}{2m} \\sum\\limits_{i = 0}^{m-1} (f_{w,b}(x^{(i)}) - y^{(i)})^2 \\tag{1}$$\n",
        "\n",
        "where\n",
        "  $$f_{w,b}(x^{(i)}) = wx^{(i)} + b \\tag{2}$$\n",
        "  \n",
        "- $f_{w,b}(x^{(i)})$ is our prediction for example $i$ using parameters $w,b$.  \n",
        "- $(f_{w,b}(x^{(i)}) -y^{(i)})^2$ is the squared difference between the target value and the prediction.   \n",
        "- These differences are summed over all the $m$ examples and divided by `2m` to produce the cost, $J(w,b)$.  \n",
        ">Note, in lecture summation ranges are typically from 1 to m, while code will be from 0 to m-1."
      ],
      "metadata": {
        "id": "1pg0lInsO-pD"
      }
    },
    {
      "cell_type": "markdown",
      "source": [
        "The code below calculates cost by looping over each example. In each loop:\n",
        "- `f_wb`, a prediction is calculated\n",
        "- the difference between the target and the prediction is calculated and squared.\n",
        "- this is added to the total cost."
      ],
      "metadata": {
        "id": "lzbuVCOGPK30"
      }
    },
    {
      "cell_type": "code",
      "source": [
        "def compute_cost(x, y, w, b):\n",
        "    m = len(x)\n",
        "\n",
        "    cost_sum = 0\n",
        "    for i in range(m):\n",
        "        f_wb = w * x[i] + b\n",
        "        cost = (f_wb - y[i]) ** 2\n",
        "        cost_sum = cost_sum + cost\n",
        "    total_cost = (1 / (2 * m)) * cost_sum\n",
        "\n",
        "    return total_cost"
      ],
      "metadata": {
        "id": "NjDVBctNPLzs"
      },
      "execution_count": 101,
      "outputs": []
    },
    {
      "cell_type": "markdown",
      "source": [
        "Calculate the cost with call the function"
      ],
      "metadata": {
        "id": "HsFbc1yNPUOR"
      }
    },
    {
      "cell_type": "code",
      "source": [
        "cost = compute_cost(x_train, y_train, w, b)\n",
        "print(f'cost: {cost}')"
      ],
      "metadata": {
        "colab": {
          "base_uri": "https://localhost:8080/"
        },
        "id": "pC6c2wj8PbDe",
        "outputId": "eb940db2-c443-4471-d21f-f4b043d9e829"
      },
      "execution_count": 102,
      "outputs": [
        {
          "output_type": "stream",
          "name": "stdout",
          "text": [
            "cost: 386.79999999999967\n"
          ]
        }
      ]
    },
    {
      "cell_type": "markdown",
      "source": [
        "## Implement Gradient Descent\n",
        "You will implement gradient descent algorithm for one feature. You will need three functions.\n",
        "- `compute_gradient` implementing equation (4) and (5) above\n",
        "- `compute_cost` implementing equation (2) above (code from previous lab)\n",
        "- `gradient_descent`, utilizing compute_gradient and compute_cost\n",
        "\n",
        "Conventions:\n",
        "- The naming of python variables containing partial derivatives follows this pattern,$\\frac{\\partial J(w,b)}{\\partial b}$  will be `dj_db`.\n",
        "- w.r.t is With Respect To, as in partial derivative of $J(wb)$ With Respect To $b$."
      ],
      "metadata": {
        "id": "Qgb2CTh6RNXR"
      }
    },
    {
      "cell_type": "markdown",
      "source": [
        "<a name=\"toc_40291_2.3\"></a>\n",
        "### compute_gradient\n",
        "<a name='ex-01'></a>\n",
        "`compute_gradient`  implements (4) and (5) above and returns $\\frac{\\partial J(w,b)}{\\partial w}$,$\\frac{\\partial J(w,b)}{\\partial b}$. The embedded comments describe the operations."
      ],
      "metadata": {
        "id": "29ybwbxXRQk5"
      }
    },
    {
      "cell_type": "code",
      "source": [
        "def compute_gradient(x, y, w, b):\n",
        "    m = len(x)\n",
        "    dj_dw = 0\n",
        "    dj_db = 0\n",
        "\n",
        "    for i in range(m):\n",
        "        f_wb = w * x[i] + b\n",
        "        dj_dw_i = (f_wb - y[i]) * x[i]\n",
        "        dj_db_i = f_wb - y[i]\n",
        "        dj_db += dj_db_i\n",
        "        dj_dw += dj_dw_i\n",
        "    dj_dw = dj_dw / m\n",
        "    dj_db = dj_db / m\n",
        "\n",
        "    return dj_dw, dj_db\n",
        "\n",
        "prev_gradient = compute_gradient(x_train, y_train, w, b)\n",
        "print(prev_gradient)"
      ],
      "metadata": {
        "colab": {
          "base_uri": "https://localhost:8080/"
        },
        "id": "qdWdH5tlRMrf",
        "outputId": "5eb7d158-418b-49fa-f358-d64be93d9b7f"
      },
      "execution_count": 104,
      "outputs": [
        {
          "output_type": "stream",
          "name": "stdout",
          "text": [
            "(-4.279999999999978, 1.2000000000000113)\n"
          ]
        }
      ]
    },
    {
      "cell_type": "code",
      "source": [
        "def gradient_descent(x, y, w_in, b_in, alpha, num_iters, cost_function, gradient_function):\n",
        "    # An array to store cost J and w's at each iteration primarily for graphing later\n",
        "    J_history = []\n",
        "    p_history = []\n",
        "    b = b_in\n",
        "    w = w_in\n",
        "\n",
        "    for i in range(num_iters):\n",
        "        # Calculate the gradient and update the parameters using gradient_function\n",
        "        dj_dw, dj_db = gradient_function(x, y, w , b)\n",
        "\n",
        "        # Update Parameters using equation (3) above\n",
        "        b = b - alpha * dj_db\n",
        "        w = w - alpha * dj_dw\n",
        "\n",
        "        # Save cost J at each iteration\n",
        "        if i<100000:      # prevent resource exhaustion\n",
        "            J_history.append( cost_function(x, y, w , b))\n",
        "            p_history.append([w,b])\n",
        "        # Print cost every at intervals 10 times or as many iterations if < 10\n",
        "        if i% math.ceil(num_iters/10) == 0:\n",
        "            print(f\"Iteration {i:4}: Cost {J_history[-1]:0.2e} \",\n",
        "                  f\"dj_dw: {dj_dw: 0.3e}, dj_db: {dj_db: 0.3e}  \",\n",
        "                  f\"w: {w: 0.3e}, b:{b: 0.5e}\")\n",
        "\n",
        "    return w, b, J_history, p_history #return w and J,w history for graphing"
      ],
      "metadata": {
        "id": "cYDckJgTR0BP"
      },
      "execution_count": 107,
      "outputs": []
    },
    {
      "cell_type": "code",
      "source": [
        "# initialize parameters\n",
        "w_init = 0\n",
        "b_init = 0\n",
        "# some gradient descent settings\n",
        "iterations = 10000\n",
        "tmp_alpha = 1.0e-2\n",
        "# run gradient descent\n",
        "w_final, b_final, J_hist, p_hist = gradient_descent(x_train ,y_train, w_init, b_init, tmp_alpha,\n",
        "                                                    iterations, compute_cost, compute_gradient)\n",
        "print(f\"(w,b) found by gradient descent: ({w_final:8.4f},{b_final:8.4f})\")"
      ],
      "metadata": {
        "colab": {
          "base_uri": "https://localhost:8080/"
        },
        "id": "dkY6OIjzR3ER",
        "outputId": "74aeb3d3-3a46-4e9c-e055-832036fdf228"
      },
      "execution_count": 108,
      "outputs": [
        {
          "output_type": "stream",
          "name": "stdout",
          "text": [
            "Iteration    0: Cost 7.54e+04  dj_dw: -7.530e+02, dj_db: -4.000e+02   w:  7.530e+00, b: 4.00000e+00\n",
            "Iteration 1000: Cost 3.60e+02  dj_dw: -1.404e+00, dj_db:  2.617e+00   w:  1.846e+02, b: 6.29447e+01\n",
            "Iteration 2000: Cost 2.83e+02  dj_dw: -1.230e+00, dj_db:  2.294e+00   w:  1.978e+02, b: 3.84234e+01\n",
            "Iteration 3000: Cost 2.23e+02  dj_dw: -1.078e+00, dj_db:  2.011e+00   w:  2.093e+02, b: 1.69304e+01\n",
            "Iteration 4000: Cost 1.77e+02  dj_dw: -9.453e-01, dj_db:  1.763e+00   w:  2.194e+02, b:-1.90840e+00\n",
            "Iteration 5000: Cost 1.42e+02  dj_dw: -8.285e-01, dj_db:  1.545e+00   w:  2.282e+02, b:-1.84207e+01\n",
            "Iteration 6000: Cost 1.15e+02  dj_dw: -7.262e-01, dj_db:  1.354e+00   w:  2.360e+02, b:-3.28937e+01\n",
            "Iteration 7000: Cost 9.45e+01  dj_dw: -6.365e-01, dj_db:  1.187e+00   w:  2.428e+02, b:-4.55795e+01\n",
            "Iteration 8000: Cost 7.85e+01  dj_dw: -5.579e-01, dj_db:  1.040e+00   w:  2.488e+02, b:-5.66986e+01\n",
            "Iteration 9000: Cost 6.63e+01  dj_dw: -4.890e-01, dj_db:  9.118e-01   w:  2.540e+02, b:-6.64445e+01\n",
            "(w,b) found by gradient descent: (258.5751,-74.9789)\n"
          ]
        }
      ]
    },
    {
      "cell_type": "markdown",
      "source": [
        "### Predictions\n",
        "Now that you have discovered the optimal values for the parameters $w$ and $b$, you can now use the model to predict housing values based on our learned parameters. As expected, the predicted values are nearly the same as the training values for the same housing. Further, the value not in the prediction is in line with the expected value."
      ],
      "metadata": {
        "id": "yYtdLqWRTRNd"
      }
    },
    {
      "cell_type": "code",
      "source": [
        "print(f\"1000 sqft house prediction {w_final*1.0 + b_final:0.1f} Thousand dollars\")\n",
        "print(f\"1200 sqft house prediction {w_final*1.2 + b_final:0.1f} Thousand dollars\")\n",
        "print(f\"2000 sqft house prediction {w_final*2.0 + b_final:0.1f} Thousand dollars\")"
      ],
      "metadata": {
        "colab": {
          "base_uri": "https://localhost:8080/"
        },
        "id": "potKWK68TSNN",
        "outputId": "9e9faf02-f09e-42aa-87b9-d20a2247af9d"
      },
      "execution_count": 115,
      "outputs": [
        {
          "output_type": "stream",
          "name": "stdout",
          "text": [
            "1000 sqft house prediction 183.6 Thousand dollars\n",
            "1200 sqft house prediction 235.3 Thousand dollars\n",
            "2000 sqft house prediction 442.2 Thousand dollars\n"
          ]
        }
      ]
    }
  ]
}